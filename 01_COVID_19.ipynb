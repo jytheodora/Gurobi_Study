{
  "nbformat": 4,
  "nbformat_minor": 0,
  "metadata": {
    "kernelspec": {
      "display_name": "Python 3",
      "language": "python",
      "name": "python3"
    },
    "language_info": {
      "codemirror_mode": {
        "name": "ipython",
        "version": 3
      },
      "file_extension": ".py",
      "mimetype": "text/x-python",
      "name": "python",
      "nbconvert_exporter": "python",
      "pygments_lexer": "ipython3",
      "version": "3.8.3"
    },
    "colab": {
      "name": "01_COVID-19",
      "provenance": [],
      "toc_visible": true,
      "include_colab_link": true
    }
  },
  "cells": [
    {
      "cell_type": "markdown",
      "metadata": {
        "id": "view-in-github",
        "colab_type": "text"
      },
      "source": [
        "<a href=\"https://colab.research.google.com/github/jytheodora/Gurobi_Study/blob/main/01_COVID_19.ipynb\" target=\"_parent\"><img src=\"https://colab.research.google.com/assets/colab-badge.svg\" alt=\"Open In Colab\"/></a>"
      ]
    },
    {
      "cell_type": "markdown",
      "metadata": {
        "id": "Tf6KDxkEZ7nf"
      },
      "source": [
        "*   기존의 코로나19 환자 수용시설\n",
        "*   의료진을 위한 임시시설 최소화\n",
        "\n",
        "*   기존 수용시설에 코로나환자가 균등하게 할당되면서, 임시소 설치를 최소화 할 수 있는 최적화?\n"
      ]
    },
    {
      "cell_type": "code",
      "metadata": {
        "colab": {
          "base_uri": "https://localhost:8080/"
        },
        "id": "rkCnkIsvaXG1",
        "outputId": "423a441d-e971-4a5d-8cf1-0e982c136e96"
      },
      "source": [
        "# Gurobi 설치\n",
        "%pip install gurobipy"
      ],
      "execution_count": null,
      "outputs": [
        {
          "output_type": "stream",
          "name": "stdout",
          "text": [
            "Collecting gurobipy\n",
            "  Downloading gurobipy-9.1.2-cp37-cp37m-manylinux1_x86_64.whl (11.1 MB)\n",
            "\u001b[K     |████████████████████████████████| 11.1 MB 7.8 MB/s \n",
            "\u001b[?25hInstalling collected packages: gurobipy\n",
            "Successfully installed gurobipy-9.1.2\n"
          ]
        }
      ]
    },
    {
      "cell_type": "code",
      "metadata": {
        "id": "gv8CfiCMOcPK"
      },
      "source": [
        "from itertools import product\n",
        "\n",
        "import gurobipy as gp\n",
        "from gurobipy import GRB\n",
        "\n",
        "import matplotlib.pyplot as plt\n",
        "import random\n",
        "from math import *"
      ],
      "execution_count": null,
      "outputs": []
    },
    {
      "cell_type": "code",
      "metadata": {
        "id": "8a3joElsOcPO",
        "colab": {
          "base_uri": "https://localhost:8080/"
        },
        "outputId": "579a9307-1e49-47f5-e1aa-9d2fba0d0f97"
      },
      "source": [
        "m=gp.Model('Covid')"
      ],
      "execution_count": null,
      "outputs": [
        {
          "output_type": "stream",
          "name": "stdout",
          "text": [
            "Restricted license - for non-production use only - expires 2022-01-13\n"
          ]
        }
      ]
    },
    {
      "cell_type": "markdown",
      "metadata": {
        "id": "hssgyHaoeF3K"
      },
      "source": [
        "### **Set**\n",
        "\n",
        "    \n",
        "\n",
        "1.   기존 코로나 시설 좌표 8개\n",
        "2.   임시시설 좌표 후보군 9개\n",
        "\n",
        "\n",
        "    "
      ]
    },
    {
      "cell_type": "code",
      "metadata": {
        "colab": {
          "base_uri": "https://localhost:8080/",
          "height": 283
        },
        "id": "gdeioFymobYb",
        "outputId": "6d4bd24d-3e8c-428b-b4d8-b1bb7b79c8a7"
      },
      "source": [
        "exist_coordi = [[1,2], [3,2], [4,7], [2,4], [2,1], [5,6], [6,3], [7,5]]\n",
        "new_coordi = [[1,4], [3,1], [6,2], [1,5], [3,3], [5,4], [1,8], [3,6], [4,8]]\n",
        "x1,y1 = zip(*exist_coordi)\n",
        "x2,y2 = zip(*new_coordi)\n",
        "plt.scatter(x1,y1,c='blue')\n",
        "plt.scatter(x2,y2,marker='*',c='Red')\n",
        "plt.show"
      ],
      "execution_count": null,
      "outputs": [
        {
          "output_type": "execute_result",
          "data": {
            "text/plain": [
              "<function matplotlib.pyplot.show>"
            ]
          },
          "metadata": {},
          "execution_count": 5
        },
        {
          "output_type": "display_data",
          "data": {
            "image/png": "[encoded data removed]",
            "text/plain": [
              "<Figure size 432x288 with 1 Axes>"
            ]
          },
          "metadata": {
            "needs_background": "light"
          }
        }
      ]
    },
    {
      "cell_type": "markdown",
      "metadata": {
        "id": "_iJ1dTyBijVB"
      },
      "source": [
        "  \n",
        "    \n",
        "\n",
        "3.     기존 코로나 시설의 수용 인원 - 각 시설별 수용인원 \n",
        "\n",
        "4.   임시시설별 수용 가능한 인원항목 추가\n",
        "5.   전체 감염자 수\n",
        "\n",
        "\n",
        "   "
      ]
    },
    {
      "cell_type": "code",
      "metadata": {
        "id": "QiqCjgzmOcPR",
        "colab": {
          "base_uri": "https://localhost:8080/"
        },
        "outputId": "684ce0fa-468c-4a41-d6ec-16e0880801f8"
      },
      "source": [
        "#랜덤 리스트 함수\n",
        "def random_ListE(size):\n",
        "    result = []\n",
        "\n",
        "    for v in range(size):\n",
        "        result.append(random.randint(100,150))\n",
        "        #최소 수용인원 100이라는 조건이 있어야 할 듯?\n",
        "\n",
        "    return result\n",
        "\n",
        "def random_ListN(size):\n",
        "    result = []\n",
        "\n",
        "    for v in range(size):\n",
        "        result.append(random.randint(50,100))\n",
        "        #임시수용소 최대 수용인원 = 기존시설 최소 수용인원\n",
        "\n",
        "    return result\n",
        "\n",
        "#변수생성\n",
        "ea = random_ListE(8) #각 시설별 수용인원\n",
        "na = random_ListN(9) #임시수용소별 수용인원\n",
        "p = 1500 \n",
        "#전체 감염자 수\n",
        "#기존 최대 150*8 + 수용 최대 100*9 = 1200 + 900 = 2100보다 작은 수\n",
        "\n",
        "print(ea)\n",
        "print(na)\n",
        "print(p)"
      ],
      "execution_count": null,
      "outputs": [
        {
          "output_type": "stream",
          "name": "stdout",
          "text": [
            "[105, 145, 106, 130, 117, 100, 125, 104]\n",
            "[73, 57, 59, 61, 72, 74, 97, 71, 78]\n",
            "1500\n"
          ]
        }
      ]
    },
    {
      "cell_type": "code",
      "metadata": {
        "id": "tzwtstQ_OcPR",
        "colab": {
          "base_uri": "https://localhost:8080/",
          "height": 248
        },
        "outputId": "bc714f75-5ea8-47a1-9343-588cb5ac1722"
      },
      "source": [
        "cf=[]\n",
        "for i in c:\n",
        "    for j in f:\n",
        "        t=i,j\n",
        "        cf.append(t)\n",
        "\n",
        "print(cf)"
      ],
      "execution_count": null,
      "outputs": [
        {
          "output_type": "error",
          "ename": "NameError",
          "evalue": "ignored",
          "traceback": [
            "\u001b[0;31m---------------------------------------------------------------------------\u001b[0m",
            "\u001b[0;31mNameError\u001b[0m                                 Traceback (most recent call last)",
            "\u001b[0;32m<ipython-input-7-21cef3d90e89>\u001b[0m in \u001b[0;36m<module>\u001b[0;34m()\u001b[0m\n\u001b[1;32m      1\u001b[0m \u001b[0mcf\u001b[0m\u001b[0;34m=\u001b[0m\u001b[0;34m[\u001b[0m\u001b[0;34m]\u001b[0m\u001b[0;34m\u001b[0m\u001b[0;34m\u001b[0m\u001b[0m\n\u001b[0;32m----> 2\u001b[0;31m \u001b[0;32mfor\u001b[0m \u001b[0mi\u001b[0m \u001b[0;32min\u001b[0m \u001b[0mc\u001b[0m\u001b[0;34m:\u001b[0m\u001b[0;34m\u001b[0m\u001b[0;34m\u001b[0m\u001b[0m\n\u001b[0m\u001b[1;32m      3\u001b[0m     \u001b[0;32mfor\u001b[0m \u001b[0mj\u001b[0m \u001b[0;32min\u001b[0m \u001b[0mf\u001b[0m\u001b[0;34m:\u001b[0m\u001b[0;34m\u001b[0m\u001b[0;34m\u001b[0m\u001b[0m\n\u001b[1;32m      4\u001b[0m         \u001b[0mt\u001b[0m\u001b[0;34m=\u001b[0m\u001b[0mi\u001b[0m\u001b[0;34m,\u001b[0m\u001b[0mj\u001b[0m\u001b[0;34m\u001b[0m\u001b[0;34m\u001b[0m\u001b[0m\n\u001b[1;32m      5\u001b[0m         \u001b[0mcf\u001b[0m\u001b[0;34m.\u001b[0m\u001b[0mappend\u001b[0m\u001b[0;34m(\u001b[0m\u001b[0mt\u001b[0m\u001b[0;34m)\u001b[0m\u001b[0;34m\u001b[0m\u001b[0;34m\u001b[0m\u001b[0m\n",
            "\u001b[0;31mNameError\u001b[0m: name 'c' is not defined"
          ]
        }
      ]
    },
    {
      "cell_type": "markdown",
      "metadata": {
        "id": "zdtZfcL5s5cP"
      },
      "source": [
        "\n",
        "\n",
        "```\n",
        "# 코드로 형식 지정됨\n",
        "```\n",
        "\n",
        "\n",
        "\n",
        "6.  시설관리\n",
        "\n"
      ]
    },
    {
      "cell_type": "code",
      "metadata": {
        "id": "WyFmFkr0OcPS",
        "colab": {
          "base_uri": "https://localhost:8080/",
          "height": 266
        },
        "outputId": "689e921e-3d88-4cd2-9825-fd4e892652c1"
      },
      "source": [
        "from itertools import *\n",
        "\n",
        "def get_distance(loc1,loc2):\n",
        "    dx=loc1[0]-loc2[0]\n",
        "    dy=loc1[1]-loc2[1]\n",
        "    return sqrt(dx*dx+dy*dy)\n",
        "\n",
        "set = ea + na\n",
        "print(set)\n",
        "\n",
        "for com in combinations(set,2):\n",
        "    print(com)\n",
        "\n",
        "    dis = com\n",
        "    merged_4 = list(map(list.__add__,dis[0],dis[1]))\n",
        "    print(merged_4)"
      ],
      "execution_count": null,
      "outputs": [
        {
          "output_type": "stream",
          "name": "stdout",
          "text": [
            "[105, 145, 106, 130, 117, 100, 125, 104, 73, 57, 59, 61, 72, 74, 97, 71, 78]\n",
            "(105, 145)\n"
          ]
        },
        {
          "output_type": "error",
          "ename": "TypeError",
          "evalue": "ignored",
          "traceback": [
            "\u001b[0;31m---------------------------------------------------------------------------\u001b[0m",
            "\u001b[0;31mTypeError\u001b[0m                                 Traceback (most recent call last)",
            "\u001b[0;32m<ipython-input-8-48e506e35fe8>\u001b[0m in \u001b[0;36m<module>\u001b[0;34m()\u001b[0m\n\u001b[1;32m     13\u001b[0m \u001b[0;34m\u001b[0m\u001b[0m\n\u001b[1;32m     14\u001b[0m     \u001b[0mdis\u001b[0m \u001b[0;34m=\u001b[0m \u001b[0mcom\u001b[0m\u001b[0;34m\u001b[0m\u001b[0;34m\u001b[0m\u001b[0m\n\u001b[0;32m---> 15\u001b[0;31m     \u001b[0mmerged_4\u001b[0m \u001b[0;34m=\u001b[0m \u001b[0mlist\u001b[0m\u001b[0;34m(\u001b[0m\u001b[0mmap\u001b[0m\u001b[0;34m(\u001b[0m\u001b[0mlist\u001b[0m\u001b[0;34m.\u001b[0m\u001b[0m__add__\u001b[0m\u001b[0;34m,\u001b[0m\u001b[0mdis\u001b[0m\u001b[0;34m[\u001b[0m\u001b[0;36m0\u001b[0m\u001b[0;34m]\u001b[0m\u001b[0;34m,\u001b[0m\u001b[0mdis\u001b[0m\u001b[0;34m[\u001b[0m\u001b[0;36m1\u001b[0m\u001b[0;34m]\u001b[0m\u001b[0;34m)\u001b[0m\u001b[0;34m)\u001b[0m\u001b[0;34m\u001b[0m\u001b[0;34m\u001b[0m\u001b[0m\n\u001b[0m\u001b[1;32m     16\u001b[0m     \u001b[0mprint\u001b[0m\u001b[0;34m(\u001b[0m\u001b[0mmerged_4\u001b[0m\u001b[0;34m)\u001b[0m\u001b[0;34m\u001b[0m\u001b[0;34m\u001b[0m\u001b[0m\n",
            "\u001b[0;31mTypeError\u001b[0m: 'int' object is not iterable"
          ]
        }
      ]
    },
    {
      "cell_type": "markdown",
      "metadata": {
        "id": "OM6lZHEu-IL2"
      },
      "source": [
        "선태하는 임시수용소 수"
      ]
    },
    {
      "cell_type": "code",
      "metadata": {
        "id": "vlOgsxrJOcPU"
      },
      "source": [
        "choice = 100"
      ],
      "execution_count": null,
      "outputs": []
    },
    {
      "cell_type": "markdown",
      "metadata": {
        "id": "F469uyj_OcPU"
      },
      "source": [
        "ㅕㄹ정변수\n",
        "\n",
        "# ㅕㄹ정변수\n",
        "\n",
        "1.   임시수용소 선태 되었냐 안되었냐?\n",
        "\n",
        "\n",
        "\n"
      ]
    },
    {
      "cell_type": "markdown",
      "metadata": {
        "id": "0SzUE3aIOcPV"
      },
      "source": [
        "# **모저변수**\n",
        "1.   동등한 ㅓ리 할당?\n",
        "2.   펴윤 이동ㅓ리 ㅏㅄ 최소화?\n",
        "\n",
        "\n",
        "\n",
        "\n"
      ]
    },
    {
      "cell_type": "markdown",
      "metadata": {
        "id": "Qfhn2YGaR8sO"
      },
      "source": [
        ""
      ]
    },
    {
      "cell_type": "markdown",
      "metadata": {
        "id": "ZNrodrjHOcPW"
      },
      "source": [
        "# **제야**\n",
        "\n",
        "1.   위 일부 변수 설정시 제야 - 예상 환자수 / 수용소 수?\n",
        "\n"
      ]
    },
    {
      "cell_type": "markdown",
      "metadata": {
        "id": "dSBFzK6iR2to"
      },
      "source": [
        "# FIN\n",
        "    Function으로 만들어서 한번에 돌림"
      ]
    },
    {
      "cell_type": "code",
      "metadata": {
        "id": "J3CyezkNR2Kr"
      },
      "source": [
        "#ㅓ리ㅖ산\n",
        "def compute_distance(loc1, loc2):\n",
        "    dx = loc1[0] - loc2[0]\n",
        "    dy = loc1[1] - loc2[1]\n",
        "    return sqrt(dx*dx + dy*dy)"
      ],
      "execution_count": null,
      "outputs": []
    },
    {
      "cell_type": "code",
      "metadata": {
        "id": "Zi6p4QZHS1oJ"
      },
      "source": [
        "#코로나수용소 최저화\n",
        "def solve_covid19_facility(c_coordinates, demand):\n",
        "    \n",
        "    # Indices\n",
        "    counties = [*range(1,10)]\n",
        "    facilities = [*range(1,24)]\n",
        "    \n",
        "    # 진료소,좌표,수용려\n",
        "    existing, e_coordinates, e_capacity  = gp.multidict({\n",
        "        1: [(1, 2), 281],\n",
        "        2: [(2.5, 1), 187],\n",
        "        3: [(5, 1), 200],\n",
        "        4: [(6.5, 3.5), 223],\n",
        "        5: [(1, 5), 281],\n",
        "        6: [(3, 4), 281],\n",
        "        7: [(5, 4), 222],\n",
        "        8: [(6.5, 5.5), 200],\n",
        "        9: [(1, 8.5), 250], \n",
        "        10: [(1.5, 9.5), 125],\n",
        "        11: [(8.5, 6), 187],\n",
        "        12: [(5, 8), 300],\n",
        "        13: [(3, 9), 300],\n",
        "        14: [(6, 9), 243]\n",
        "    })\n",
        "    \n",
        "    # 임시,좌표,수용려\n",
        "    temporary, t_coordinates, t_capacity  = gp.multidict({\n",
        "        15: [(1.5, 1), 100],\n",
        "        16: [(3.5, 1.5), 100],\n",
        "        17: [(5.5, 2.5), 100],\n",
        "        18: [(1.5, 3.5), 100],\n",
        "        19: [(3.5, 2.5), 100],\n",
        "        20: [(4.5, 4.5), 100],\n",
        "        21: [(1.5, 6.5), 100],\n",
        "        22: [(3.5, 6.5), 100],\n",
        "        23: [(5.5, 6.5), 100]\n",
        "    })\n",
        "    \n",
        "    # 10마일당 주행비용 - ㅓ리별 비용\n",
        "    dcost = 5\n",
        "    \n",
        "    # 임시시설 설치비용\n",
        "    tfcost = 500000\n",
        "\n",
        "# Compute key parameters of MIP model formulation\n",
        "    f_coordinates = {}\n",
        "    for e in existing:\n",
        "        f_coordinates[e] = e_coordinates[e]\n",
        "    \n",
        "    for t in temporary:\n",
        "        f_coordinates[t] = t_coordinates[t]\n",
        "    \n",
        "    # Cartesian product of counties and facilities - ★???\n",
        "    cf = []\n",
        "    \n",
        "    for c in counties:\n",
        "        for f in facilities:\n",
        "            tp = c,f\n",
        "            cf.append(tp)\n",
        "        \n",
        "    # 카운티 중심지와 시설물 위치 ㅓ리 ㅖ산\n",
        "    distance = {(c,f): compute_distance(c_coordinates[c], f_coordinates[f]) for c, f in cf}\n",
        "    \n",
        "    #####################################################\n",
        "    #                    MIP Model Formulation\n",
        "    #####################################################\n",
        "    \n",
        "    #모델 생성\n",
        "    m = gp.Model('covid19_temporary_facility_location')\n",
        "    y = m.addVars(temporary, vtype=GRB.BINARY, name='temporary')  # 임시시설ㅓㄴ설비용\n",
        "    x = m.addVars(cf, vtype=GRB.CONTINUOUS, name='Assign')  # 카운티시설에 할당\n",
        "    z = m.addVars(temporary, vtype=GRB.CONTINUOUS, name='addCap' ) #임시수용시설 용량추ㅏ\n",
        "    \n",
        "    #목적 함수: COVID-19 시설까지 총 주행 거리 최소화\n",
        "    \n",
        "    #임시 시설에서 용량을 추가할 경우 패널티 (+)\n",
        "    bigM = 1e9\n",
        "    \n",
        "    m.setObjective(gp.quicksum(dcost*distance[c,f]*x[c,f] for c,f in cf) #Documentation - Reference Manual - F5\n",
        "                   + tfcost*y.sum()\n",
        "                   + bigM*z.sum(), GRB.MINIMIZE)\n",
        "    \n",
        "    # 카운티 제야\n",
        "    demandConstrs = m.addConstrs((gp.quicksum(x[c,f] for f in facilities) == demand[c] for c in counties), \n",
        "                                 name='demandConstrs')\n",
        "    \n",
        "    # ㅣ존ㅣ설 제야\n",
        "    existingCapConstrs = m.addConstrs((gp.quicksum(x[c,e]  for c in counties) <= e_capacity[e] for e in existing ), \n",
        "                                      name='existingCapConstrs')\n",
        "    \n",
        "    # 임시시설 제야\n",
        "    temporaryCapConstrs = m.addConstrs((gp.quicksum(x[c,t]  for c in counties) -z[t] \n",
        "                                        <= t_capacity[t]*y[t] for t in temporary ),\n",
        "                                       name='temporaryCapConstrs')\n",
        "   \n",
        "   \n",
        "   \n",
        "   \n",
        "   # Run optimization engine\n",
        "    m.optimize()\n",
        "\n",
        "\n",
        "    #####################################################\n",
        "    #                    Output Reports\n",
        "    #####################################################\n",
        "    # Total cost of building temporary facility locations\n",
        "    temporary_facility_cost = 0\n",
        "    \n",
        "    print(f\"\\n\\n_____________Optimal costs______________________\")\n",
        "    for t in temporary:\n",
        "        if (y[t].x > 0.5):\n",
        "            temporary_facility_cost += tfcost*round(y[t].x)\n",
        "        \n",
        "    patient_allocation_cost = 0\n",
        "    for c,f in cf:\n",
        "        if x[c,f].x > 1e-6:\n",
        "            patient_allocation_cost += dcost*round(distance[c,f]*x[c,f].x)\n",
        "            \n",
        "    print(f\"The total cost of building COVID-19 temporary healhtcare facilities is ${temporary_facility_cost:,}\") \n",
        "    print(f\"The total cost of allocating COVID-19 patients to healtcare facilities is ${patient_allocation_cost:,}\")  \n",
        "    \n",
        "    # Build temporary facility at location\n",
        "    print(f\"\\n_____________Plan for temporary facilities______________________\")\n",
        "    for t in temporary:\n",
        "        if (y[t].x > 0.5):\n",
        "            print(f\"Build a temporary facility at location {t}\")\n",
        "        \n",
        "    # Extra capacity at temporary facilities\n",
        "    print(f\"\\n_____________Plan to increase Capacity at temporary Facilities______________________\")\n",
        "    for t in temporary:\n",
        "        if (z[t].x > 1e-6):\n",
        "            print(f\"Increase  temporary facility capacity at location {t} by {round(z[t].x)} beds\")\n",
        "\n",
        "    # Demand satisfied at each facility\n",
        "    f_demand = {}\n",
        "    print(f\"\\n_____________Allocation of county patients to COVID-19 healthcare facility______________________\")\n",
        "    for f in facilities:\n",
        "        temp = 0\n",
        "        for c in counties:\n",
        "            allocation = round(x[c,f].x)\n",
        "            if allocation > 0:\n",
        "                print(f\"{allocation} COVID-19 patients from county {c} are treated at facility {f} \")\n",
        "            temp += allocation\n",
        "        f_demand[f] = temp\n",
        "        print(f\"{temp} is the total number of COVID-19 patients that are treated at facility {f}. \")\n",
        "        print(f\"\\n________________________________________________________________________________\")\n",
        "        \n",
        "\n",
        "\n",
        "    # Test total demand = total demand satisfied by facilities\n",
        "    total_demand = 0\n",
        "    \n",
        "    for c in counties:\n",
        "        total_demand += demand[c]\n",
        "        \n",
        "    demand_satisfied = 0\n",
        "    for f in facilities:\n",
        "        demand_satisfied += f_demand[f]\n",
        "        \n",
        "    print(f\"\\n_____________Test demand = supply______________________\")\n",
        "    print(f\"Total demand is: {total_demand:,} patients\")\n",
        "    print(f\"Total demand satisfied is: {demand_satisfied:,} beds\")"
      ],
      "execution_count": null,
      "outputs": []
    },
    {
      "cell_type": "markdown",
      "metadata": {
        "id": "ePLB2SOzUiAH"
      },
      "source": [
        "COVID-19 의료 시설 용량 최적화"
      ]
    },
    {
      "cell_type": "code",
      "metadata": {
        "id": "84kdadFCUhX6"
      },
      "source": [
        "# 카운티 좌표와 예상되는 환자수 변수 설정\n",
        "\n",
        "counties, coordinates, forecast  = gp.multidict({\n",
        "    1: [(1, 1.5), 351],\n",
        "    2: [(3, 1), 230],\n",
        "    3: [(5.5, 1.5), 529],\n",
        "    4: [(1, 4.5 ), 339],\n",
        "    5: [(3, 3.5), 360],\n",
        "    6: [(5.5, 4.5), 527],\n",
        "    7: [(1, 8), 469],\n",
        "    8: [(3, 6), 234],\n",
        "    9: [(4.5, 8), 500]   \n",
        "})\n",
        "\n",
        "# 존 아로리므 혅댜화 -> 수용소 위치와 환자변동에 따른 현황 최저화\n",
        "solve_covid19_facility(coordinates, forecast)"
      ],
      "execution_count": null,
      "outputs": []
    }
  ]
}