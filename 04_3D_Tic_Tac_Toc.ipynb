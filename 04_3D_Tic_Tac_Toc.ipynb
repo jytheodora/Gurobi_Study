{
  "nbformat": 4,
  "nbformat_minor": 0,
  "metadata": {
    "colab": {
      "name": "04_3D_Tic-Tac-Toc.ipynb",
      "provenance": [],
      "authorship_tag": "ABX9TyNcqtRS6j/+m4Gr+DtBzG7D",
      "include_colab_link": true
    },
    "kernelspec": {
      "name": "python3",
      "display_name": "Python 3"
    },
    "language_info": {
      "name": "python"
    }
  },
  "cells": [
    {
      "cell_type": "markdown",
      "metadata": {
        "id": "view-in-github",
        "colab_type": "text"
      },
      "source": [
        "<a href=\"https://colab.research.google.com/github/jytheodora/Gurobi_Study/blob/main/04_3D_Tic_Tac_Toc.ipynb\" target=\"_parent\"><img src=\"https://colab.research.google.com/assets/colab-badge.svg\" alt=\"Open In Colab\"/></a>"
      ]
    },
    {
      "cell_type": "code",
      "execution_count": null,
      "metadata": {
        "colab": {
          "base_uri": "https://localhost:8080/"
        },
        "id": "rzs5griLoRMp",
        "outputId": "607a7ce8-7063-4592-b800-0f7477849f39"
      },
      "outputs": [
        {
          "output_type": "stream",
          "name": "stdout",
          "text": [
            "Collecting gurobipy\n",
            "  Downloading gurobipy-9.5.0-cp37-cp37m-manylinux2014_x86_64.whl (11.5 MB)\n",
            "\u001b[K     |████████████████████████████████| 11.5 MB 7.5 MB/s \n",
            "\u001b[?25hInstalling collected packages: gurobipy\n",
            "Successfully installed gurobipy-9.5.0\n"
          ]
        }
      ],
      "source": [
        "%pip install gurobipy"
      ]
    },
    {
      "cell_type": "code",
      "source": [
        "import gurobipy as gp\n",
        "from gurobipy import GRB"
      ],
      "metadata": {
        "id": "s3uuLEa4oXK-"
      },
      "execution_count": null,
      "outputs": []
    },
    {
      "cell_type": "markdown",
      "source": [
        "선 자체를 정해줌 -> 정답 설정"
      ],
      "metadata": {
        "id": "K_07-ChEjrRG"
      }
    },
    {
      "cell_type": "code",
      "source": [
        "lines = []\n",
        "size = 3\n",
        "\n",
        "for i in range(size):\n",
        "    for j in range(size):\n",
        "        for k in range(size):\n",
        "            if i == 0:\n",
        "                lines.append(((0,j,k), (1,j,k), (2,j,k)))\n",
        "            if j == 0:\n",
        "                lines.append(((i,0,k), (i,1,k), (i,2,k)))\n",
        "            if k == 0:\n",
        "                lines.append(((i,j,0), (i,j,1), (i,j,2)))\n",
        "            if i == 0 and j == 0:\n",
        "                lines.append(((0,0,k), (1,1,k), (2,2,k)))\n",
        "            if i == 0 and j == 2:\n",
        "                lines.append(((0,2,k), (1,1,k), (2,0,k)))\n",
        "            if i == 0 and k == 0:\n",
        "                lines.append(((0,j,0), (1,j,1), (2,j,2)))\n",
        "            if i == 0 and k == 2:\n",
        "                lines.append(((0,j,2), (1,j,1), (2,j,0)))\n",
        "            if j == 0 and k == 0:\n",
        "                lines.append(((i,0,0), (i,1,1), (i,2,2)))\n",
        "            if j == 0 and k == 2:\n",
        "                lines.append(((i,0,2), (i,1,1), (i,2,0)))\n",
        "lines.append(((0,0,0), (1,1,1), (2,2,2))) #대각선\n",
        "lines.append(((2,0,0), (1,1,1), (0,2,2))) #대각선\n",
        "lines.append(((0,2,0), (1,1,1), (2,0,2))) #대각선\n",
        "lines.append(((0,0,2), (1,1,1), (2,2,0))) #대각선\n",
        "print(lines)\n",
        "print(len(lines))"
      ],
      "metadata": {
        "colab": {
          "base_uri": "https://localhost:8080/"
        },
        "id": "L0tAkuxsvk6H",
        "outputId": "d4bc3592-3a16-4b97-fe20-93510c521694"
      },
      "execution_count": null,
      "outputs": [
        {
          "output_type": "stream",
          "name": "stdout",
          "text": [
            "[((0, 0, 0), (1, 0, 0), (2, 0, 0)), ((0, 0, 0), (0, 1, 0), (0, 2, 0)), ((0, 0, 0), (0, 0, 1), (0, 0, 2)), ((0, 0, 0), (1, 1, 0), (2, 2, 0)), ((0, 0, 0), (1, 0, 1), (2, 0, 2)), ((0, 0, 0), (0, 1, 1), (0, 2, 2)), ((0, 0, 1), (1, 0, 1), (2, 0, 1)), ((0, 0, 1), (0, 1, 1), (0, 2, 1)), ((0, 0, 1), (1, 1, 1), (2, 2, 1)), ((0, 0, 2), (1, 0, 2), (2, 0, 2)), ((0, 0, 2), (0, 1, 2), (0, 2, 2)), ((0, 0, 2), (1, 1, 2), (2, 2, 2)), ((0, 0, 2), (1, 0, 1), (2, 0, 0)), ((0, 0, 2), (0, 1, 1), (0, 2, 0)), ((0, 1, 0), (1, 1, 0), (2, 1, 0)), ((0, 1, 0), (0, 1, 1), (0, 1, 2)), ((0, 1, 0), (1, 1, 1), (2, 1, 2)), ((0, 1, 1), (1, 1, 1), (2, 1, 1)), ((0, 1, 2), (1, 1, 2), (2, 1, 2)), ((0, 1, 2), (1, 1, 1), (2, 1, 0)), ((0, 2, 0), (1, 2, 0), (2, 2, 0)), ((0, 2, 0), (0, 2, 1), (0, 2, 2)), ((0, 2, 0), (1, 1, 0), (2, 0, 0)), ((0, 2, 0), (1, 2, 1), (2, 2, 2)), ((0, 2, 1), (1, 2, 1), (2, 2, 1)), ((0, 2, 1), (1, 1, 1), (2, 0, 1)), ((0, 2, 2), (1, 2, 2), (2, 2, 2)), ((0, 2, 2), (1, 1, 2), (2, 0, 2)), ((0, 2, 2), (1, 2, 1), (2, 2, 0)), ((1, 0, 0), (1, 1, 0), (1, 2, 0)), ((1, 0, 0), (1, 0, 1), (1, 0, 2)), ((1, 0, 0), (1, 1, 1), (1, 2, 2)), ((1, 0, 1), (1, 1, 1), (1, 2, 1)), ((1, 0, 2), (1, 1, 2), (1, 2, 2)), ((1, 0, 2), (1, 1, 1), (1, 2, 0)), ((1, 1, 0), (1, 1, 1), (1, 1, 2)), ((1, 2, 0), (1, 2, 1), (1, 2, 2)), ((2, 0, 0), (2, 1, 0), (2, 2, 0)), ((2, 0, 0), (2, 0, 1), (2, 0, 2)), ((2, 0, 0), (2, 1, 1), (2, 2, 2)), ((2, 0, 1), (2, 1, 1), (2, 2, 1)), ((2, 0, 2), (2, 1, 2), (2, 2, 2)), ((2, 0, 2), (2, 1, 1), (2, 2, 0)), ((2, 1, 0), (2, 1, 1), (2, 1, 2)), ((2, 2, 0), (2, 2, 1), (2, 2, 2)), ((0, 0, 0), (1, 1, 1), (2, 2, 2)), ((2, 0, 0), (1, 1, 1), (0, 2, 2)), ((0, 2, 0), (1, 1, 1), (2, 0, 2)), ((0, 0, 2), (1, 1, 1), (2, 2, 0))]\n",
            "49\n"
          ]
        }
      ]
    },
    {
      "cell_type": "code",
      "source": [
        "for i in range(size):\n",
        "    for j in range(size):\n",
        "        for k in range(size):\n",
        "            if i == 0:\n",
        "                lines.append(((0,j,k), (1,j,k), (2,j,k)))\n",
        "print(lines)\n",
        "print(len(lines))"
      ],
      "metadata": {
        "colab": {
          "base_uri": "https://localhost:8080/"
        },
        "id": "-ps467hKGAf-",
        "outputId": "c9659a55-a365-468b-c00d-43d50cf7bc0a"
      },
      "execution_count": null,
      "outputs": [
        {
          "output_type": "stream",
          "name": "stdout",
          "text": [
            "[((0, 0, 0), (1, 0, 0), (2, 0, 0)), ((0, 0, 0), (0, 1, 0), (0, 2, 0)), ((0, 0, 0), (0, 0, 1), (0, 0, 2)), ((0, 0, 0), (1, 1, 0), (2, 2, 0)), ((0, 0, 0), (1, 0, 1), (2, 0, 2)), ((0, 0, 0), (0, 1, 1), (0, 2, 2)), ((0, 0, 1), (1, 0, 1), (2, 0, 1)), ((0, 0, 1), (0, 1, 1), (0, 2, 1)), ((0, 0, 1), (1, 1, 1), (2, 2, 1)), ((0, 0, 2), (1, 0, 2), (2, 0, 2)), ((0, 0, 2), (0, 1, 2), (0, 2, 2)), ((0, 0, 2), (1, 1, 2), (2, 2, 2)), ((0, 0, 2), (1, 0, 1), (2, 0, 0)), ((0, 0, 2), (0, 1, 1), (0, 2, 0)), ((0, 1, 0), (1, 1, 0), (2, 1, 0)), ((0, 1, 0), (0, 1, 1), (0, 1, 2)), ((0, 1, 0), (1, 1, 1), (2, 1, 2)), ((0, 1, 1), (1, 1, 1), (2, 1, 1)), ((0, 1, 2), (1, 1, 2), (2, 1, 2)), ((0, 1, 2), (1, 1, 1), (2, 1, 0)), ((0, 2, 0), (1, 2, 0), (2, 2, 0)), ((0, 2, 0), (0, 2, 1), (0, 2, 2)), ((0, 2, 0), (1, 1, 0), (2, 0, 0)), ((0, 2, 0), (1, 2, 1), (2, 2, 2)), ((0, 2, 1), (1, 2, 1), (2, 2, 1)), ((0, 2, 1), (1, 1, 1), (2, 0, 1)), ((0, 2, 2), (1, 2, 2), (2, 2, 2)), ((0, 2, 2), (1, 1, 2), (2, 0, 2)), ((0, 2, 2), (1, 2, 1), (2, 2, 0)), ((1, 0, 0), (1, 1, 0), (1, 2, 0)), ((1, 0, 0), (1, 0, 1), (1, 0, 2)), ((1, 0, 0), (1, 1, 1), (1, 2, 2)), ((1, 0, 1), (1, 1, 1), (1, 2, 1)), ((1, 0, 2), (1, 1, 2), (1, 2, 2)), ((1, 0, 2), (1, 1, 1), (1, 2, 0)), ((1, 1, 0), (1, 1, 1), (1, 1, 2)), ((1, 2, 0), (1, 2, 1), (1, 2, 2)), ((2, 0, 0), (2, 1, 0), (2, 2, 0)), ((2, 0, 0), (2, 0, 1), (2, 0, 2)), ((2, 0, 0), (2, 1, 1), (2, 2, 2)), ((2, 0, 1), (2, 1, 1), (2, 2, 1)), ((2, 0, 2), (2, 1, 2), (2, 2, 2)), ((2, 0, 2), (2, 1, 1), (2, 2, 0)), ((2, 1, 0), (2, 1, 1), (2, 1, 2)), ((2, 2, 0), (2, 2, 1), (2, 2, 2)), ((0, 0, 0), (1, 1, 1), (2, 2, 2)), ((2, 0, 0), (1, 1, 1), (0, 2, 2)), ((0, 2, 0), (1, 1, 1), (2, 0, 2)), ((0, 0, 2), (1, 1, 1), (2, 2, 0)), ((0, 0, 0), (1, 0, 0), (2, 0, 0)), ((0, 0, 1), (1, 0, 1), (2, 0, 1)), ((0, 0, 2), (1, 0, 2), (2, 0, 2)), ((0, 1, 0), (1, 1, 0), (2, 1, 0)), ((0, 1, 1), (1, 1, 1), (2, 1, 1)), ((0, 1, 2), (1, 1, 2), (2, 1, 2)), ((0, 2, 0), (1, 2, 0), (2, 2, 0)), ((0, 2, 1), (1, 2, 1), (2, 2, 1)), ((0, 2, 2), (1, 2, 2), (2, 2, 2)), ((0, 0, 0), (1, 0, 0), (2, 0, 0)), ((0, 0, 1), (1, 0, 1), (2, 0, 1)), ((0, 0, 2), (1, 0, 2), (2, 0, 2)), ((0, 1, 0), (1, 1, 0), (2, 1, 0)), ((0, 1, 1), (1, 1, 1), (2, 1, 1)), ((0, 1, 2), (1, 1, 2), (2, 1, 2)), ((0, 2, 0), (1, 2, 0), (2, 2, 0)), ((0, 2, 1), (1, 2, 1), (2, 2, 1)), ((0, 2, 2), (1, 2, 2), (2, 2, 2))]\n",
            "67\n"
          ]
        }
      ]
    },
    {
      "cell_type": "code",
      "source": [
        "#1열로 정해진 리스트를 N개의 묶음으로 나눠서 자르기\n",
        "\n",
        "def list_chunk(lst, n):\n",
        "    return [lst[i:i+n] for i in range(0, len(lst), n)]\n",
        "\n",
        "#list_lines = list_chunk(lines, 3)\n",
        "#print(list_lines)"
      ],
      "metadata": {
        "id": "QnBR093sj_ZE"
      },
      "execution_count": null,
      "outputs": []
    },
    {
      "cell_type": "markdown",
      "source": [
        "1. 구로비 모델을 만든다 - 모델명 'Tic_Tac_Toe'\n",
        "2. isX (바둑알[검정색/흰색, 좌표X/O]) 데이터 타입 설정, BINARY (1/0 = T/F = 선택/비선택)\n",
        "3. isLine (선이 맞냐 아니냐) 데이터 타입 설정, BINARY (1/0 = T/F = 선택/비선택)"
      ],
      "metadata": {
        "id": "0NddFDllkNyF"
      }
    },
    {
      "cell_type": "code",
      "source": [
        "model = gp.Model('Tic_Tac_Toe')\n",
        "isX = model.addVars(size, size, size, vtype=GRB.BINARY, name=\"isX\")\n",
        "isLine = model.addVars(lines, vtype=GRB.BINARY, name=\"isLine\")"
      ],
      "metadata": {
        "id": "B1bZXHKOvxkp"
      },
      "execution_count": null,
      "outputs": []
    },
    {
      "cell_type": "markdown",
      "source": [
        "4. isX = 14 -> 3차원 칸이므모 9칸*3(높이) = 27 (총 27칸이 있음)\n",
        "\n",
        "tic-tac-toc 게임에서는 X(검정색)이 먼저 선택한다는 가정하에,\n",
        "X는 총 14개, O는 총 13개 된다.\n",
        "\n",
        "그래서 isX의 총합이 14가 되어야 함"
      ],
      "metadata": {
        "id": "pY2rHSNokxZN"
      }
    },
    {
      "cell_type": "code",
      "source": [
        "x14 = model.addConstr(isX.sum() == 14)"
      ],
      "metadata": {
        "id": "h7OKOAbRDrNG"
      },
      "execution_count": null,
      "outputs": []
    },
    {
      "cell_type": "markdown",
      "source": [
        "---\n",
        "## Model Formulation\n",
        "\n",
        "\n",
        "### Decision Variables\n",
        "\n",
        "$\\text{isX}_{ijk} \\in [0,1]$: Does cell $(i,j,k)$ contain an $X$ ($isX=1$) or an $O$ ($isX=0$)?\n",
        "\n",
        "$\\text{isLine}_{l} \\in [0,1]$: Does line/diagonal $l$ contain 3 of the same symbol?\n",
        "\n",
        "### Objective Function\n",
        "\n",
        "- **Lines**: Minimize the number of completed lines or diagonals\n",
        "\n",
        "\\begin{equation}\n",
        "\\text{Minimize} \\quad Z = \\sum_{l \\in \\text{Lines}}\\text{isLine}_l\n",
        "\\end{equation}\n",
        "\n",
        "### Constraints\n",
        "\n",
        "- **Take turns**: The board must contain 14 $X$'s and 13 $O$'s ($X$ goes first).\n",
        "\n",
        "\\begin{equation}\n",
        "\\sum_{ijk} \\text{isX}_{ijk} = 14\n",
        "\\end{equation}\n",
        "\n",
        "- **Lines**: For a line to not be complete, one cell must have a different value.  The simple observation here is that the sum of the corresponding 3 binary variables would be 3 if they are all $X$ and 0 if they were all $O$.   We need to forbid those outcomes whenever $isLine_l == 0$.  Note that $l_0$ is the first cell in line $l$, $l_1$ is the second, and $l_2$ is the third.\n",
        "\n",
        "\\begin{equation}\n",
        "\\text{isLine}_l == 0 \\implies isX[l_0] + isX[l_1] + isX[l_2] >= 1 \\quad \\forall l \\in \\text{Lines}\n",
        "\\end{equation}\n",
        "\n",
        "\\begin{equation}\n",
        "\\text{isLine}_l == 0 \\implies isX[l_0] + isX[l_1] + isX[l_2] <= 2 \\quad \\forall l \\in \\text{Lines}\n",
        "\\end{equation}\n",
        "\n",
        "---\n",
        "## Python Implementation\n",
        "\n",
        "We import the Gurobi Python Module."
      ],
      "metadata": {
        "id": "akijojmjnGkl"
      }
    },
    {
      "cell_type": "markdown",
      "source": [
        "5. 라인을 이루는 전제조건\n",
        "\n",
        "\n",
        "문제에서는 만들어질 수 있는 선의 수를 최소화 하므로 >> isLine = 0 이여야 하며\n",
        "\n",
        "이 때 선을 이루는 ixX의 총 합이 0아니면 3이 되면 안됨\n",
        "\n",
        "    isX = 1 (검정색이 다 선택되었을 때), 3 = 검정색으로 ●●●\n",
        "\n",
        "    isX = 0 (검정색이 다 선택X = 흰색으로 다 선택되었다는 의미), 0 = 흰색으로 ○○○\n",
        "\n",
        "1보다 같거나 크거나 함\n",
        "\n",
        "2보다 같거나 작아야 함"
      ],
      "metadata": {
        "id": "bcuEtYbClKje"
      }
    },
    {
      "cell_type": "markdown",
      "source": [
        "if 조건에 대한 Gurobi 명령어 : model.**addGenConstrIndicator**"
      ],
      "metadata": {
        "id": "cvHmawuhnw0N"
      }
    },
    {
      "cell_type": "code",
      "source": [
        "for line in lines:\n",
        "    model.addGenConstrIndicator(isLine[line], False, isX[line[0]] + isX[line[1]] + isX[line[2]] >= 1)\n",
        "    model.addGenConstrIndicator(isLine[line], False, isX[line[0]] + isX[line[1]] + isX[line[2]] <= 2)"
      ],
      "metadata": {
        "id": "4JuoMDuaDuge"
      },
      "execution_count": null,
      "outputs": []
    },
    {
      "cell_type": "code",
      "source": [
        "model.setObjective(isLine.sum())"
      ],
      "metadata": {
        "id": "VpF6dhA1DwGc"
      },
      "execution_count": null,
      "outputs": []
    },
    {
      "cell_type": "code",
      "source": [
        "model.optimize()"
      ],
      "metadata": {
        "colab": {
          "base_uri": "https://localhost:8080/"
        },
        "id": "X_DHeCzWDx74",
        "outputId": "b0be900f-4a83-454e-a588-d566341a4b40"
      },
      "execution_count": null,
      "outputs": [
        {
          "output_type": "stream",
          "name": "stdout",
          "text": [
            "Gurobi Optimizer version 9.5.0 build v9.5.0rc5 (linux64)\n",
            "Thread count: 1 physical cores, 2 logical processors, using up to 2 threads\n",
            "Optimize a model with 1 rows, 76 columns and 27 nonzeros\n",
            "Model fingerprint: 0x9039be95\n",
            "Model has 98 general constraints\n",
            "Variable types: 0 continuous, 76 integer (76 binary)\n",
            "Coefficient statistics:\n",
            "  Matrix range     [1e+00, 1e+00]\n",
            "  Objective range  [1e+00, 1e+00]\n",
            "  Bounds range     [1e+00, 1e+00]\n",
            "  RHS range        [1e+01, 1e+01]\n",
            "  GenCon rhs range [1e+00, 2e+00]\n",
            "  GenCon coe range [1e+00, 1e+00]\n",
            "Presolved: 99 rows, 76 columns, 419 nonzeros\n",
            "\n",
            "Continuing optimization...\n",
            "\n",
            "\n",
            "Cutting planes:\n",
            "  MIR: 2\n",
            "  Inf proof: 12\n",
            "  Zero half: 3\n",
            "\n",
            "Explored 1040 nodes (8066 simplex iterations) in 0.08 seconds (0.00 work units)\n",
            "Thread count was 2 (of 2 available processors)\n",
            "\n",
            "Solution count 3: 4 6 7 \n",
            "\n",
            "Optimal solution found (tolerance 1.00e-04)\n",
            "Best objective 4.000000000000e+00, best bound 4.000000000000e+00, gap 0.0000%\n"
          ]
        }
      ]
    },
    {
      "cell_type": "code",
      "source": [
        "import matplotlib.pyplot as plt\n",
        "%matplotlib inline\n",
        "\n",
        "fig, ax = plt.subplots(1, 3, figsize=(10,5))\n",
        "for i in range(3):\n",
        "    ax[i].grid()\n",
        "    ax[i].set_xticks(range(4))\n",
        "    ax[i].set_yticks(range(4))\n",
        "    ax[i].tick_params(labelleft=False, labelbottom=False)\n",
        "    \n",
        "for cell in isX.keys():\n",
        "    if isX[cell].x > 0.5:\n",
        "        ax[cell[0]].add_patch(plt.Rectangle((cell[1],cell[2]), 1, 1))\n",
        "\n",
        "plt.show()"
      ],
      "metadata": {
        "colab": {
          "base_uri": "https://localhost:8080/",
          "height": 306
        },
        "id": "fptNF-p9D4I7",
        "outputId": "36bfd863-85de-4c23-dcc6-fff9eadf276c"
      },
      "execution_count": null,
      "outputs": [
        {
          "output_type": "display_data",
          "data": {
            "image/png": "[encoded data removed]",
            "text/plain": [
              "<Figure size 720x360 with 3 Axes>"
            ]
          },
          "metadata": {}
        }
      ]
    }
  ]
}