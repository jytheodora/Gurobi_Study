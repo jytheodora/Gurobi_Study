{
  "nbformat": 4,
  "nbformat_minor": 0,
  "metadata": {
    "kernelspec": {
      "display_name": "Python 3",
      "language": "python",
      "name": "python3"
    },
    "language_info": {
      "codemirror_mode": {
        "name": "ipython",
        "version": 3
      },
      "file_extension": ".py",
      "mimetype": "text/x-python",
      "name": "python",
      "nbconvert_exporter": "python",
      "pygments_lexer": "ipython3",
      "version": "3.7.1"
    },
    "colab": {
      "name": "02_Workforce_Scheduling.ipynb",
      "provenance": [],
      "include_colab_link": true
    }
  },
  "cells": [
    {
      "cell_type": "markdown",
      "metadata": {
        "id": "view-in-github",
        "colab_type": "text"
      },
      "source": [
        "<a href=\"https://colab.research.google.com/github/jytheodora/Gurobi_Study/blob/main/02_Workforce_Scheduling.ipynb\" target=\"_parent\"><img src=\"https://colab.research.google.com/assets/colab-badge.svg\" alt=\"Open In Colab\"/></a>"
      ]
    },
    {
      "cell_type": "markdown",
      "metadata": {
        "id": "2eFqJ_xZWZD1"
      },
      "source": [
        "\n",
        "\n",
        "*   인력 할당과 스케쥴링 - 시간에 따라 변화 / 시간 고정\n",
        "*   변화하는 인력에 따라 자원 수요 충당하기 위해 일정 배치 / 이동\n",
        "\n"
      ]
    },
    {
      "cell_type": "code",
      "metadata": {
        "id": "4sATeaEo4L12",
        "colab": {
          "base_uri": "https://localhost:8080/"
        },
        "outputId": "b4cbc1b8-910a-42fb-ad4a-40d2cf1df618"
      },
      "source": [
        "%pip install gurobipy"
      ],
      "execution_count": null,
      "outputs": [
        {
          "output_type": "stream",
          "name": "stdout",
          "text": [
            "Collecting gurobipy\n",
            "  Downloading gurobipy-9.1.2-cp37-cp37m-manylinux1_x86_64.whl (11.1 MB)\n",
            "\u001b[K     |████████████████████████████████| 11.1 MB 4.7 MB/s \n",
            "\u001b[?25hInstalling collected packages: gurobipy\n",
            "Successfully installed gurobipy-9.1.2\n"
          ]
        }
      ]
    },
    {
      "cell_type": "code",
      "metadata": {
        "id": "pFdy3kUE4L13"
      },
      "source": [
        "import gurobipy as gp\n",
        "from gurobipy import GRB\n",
        "import random\n",
        "\n",
        "\n",
        "import pandas as pd\n",
        "from pylab import *\n",
        "import matplotlib\n",
        "import matplotlib.pyplot as plt"
      ],
      "execution_count": null,
      "outputs": []
    },
    {
      "cell_type": "markdown",
      "metadata": {
        "id": "zsQroLyp69iO"
      },
      "source": [
        "# 각 날짜별로 필요한 시간을 배정한다.\n",
        "1일차에는 6칸 근무 (6시간 근무 필요)\n"
      ]
    },
    {
      "cell_type": "code",
      "metadata": {
        "id": "rFy7Z-vh4L14"
      },
      "source": [
        "shifts, shiftRequirements = gp.multidict({\n",
        "  \"1d\":  6,\n",
        "  \"2d\":  8,\n",
        "  \"3d\":  10,\n",
        "  \"4d\":  8,\n",
        "  \"5d\":  8,\n",
        "  \"6d\":  10,\n",
        "  \"7d\":  2,\n",
        "  \"8d\":  4,\n",
        "  \"9d\":  11,\n",
        "  \"10d\": 7,\n",
        "  \"11d\": 5,\n",
        "  \"12d\": 8,\n",
        "  \"13d\": 7,\n",
        "  \"14d\": 10 })"
      ],
      "execution_count": null,
      "outputs": []
    },
    {
      "cell_type": "markdown",
      "metadata": {
        "id": "umbsHp6HBl_N"
      },
      "source": [
        "# 근무자별로 일할 수 있는 시간 배정"
      ]
    },
    {
      "cell_type": "code",
      "metadata": {
        "id": "5H-o341K4L16"
      },
      "source": [
        "# Amount each worker is paid to work one shift.\n",
        "workers, pay = gp.multidict({\n",
        "  \"A\": 10,\n",
        "  \"B\": 12,\n",
        "  \"C\": 10,\n",
        "  \"D\": 8,\n",
        "  \"E\": 8,\n",
        "  \"F\": 9,\n",
        "  \"G\": 11 })"
      ],
      "execution_count": null,
      "outputs": []
    },
    {
      "cell_type": "markdown",
      "metadata": {
        "id": "C8zUlY5_4L17"
      },
      "source": [
        "### Set\n",
        "근무자가 근무할수있는 요일날짜\n",
        "\n"
      ]
    },
    {
      "cell_type": "code",
      "metadata": {
        "id": "WSKuVFAV4L17"
      },
      "source": [
        "# Worker availability: defines on which day each employed worker is available.\n",
        "\n",
        "availability = gp.tuplelist([\n",
        "('A', '2d'), ('A', '3d'), ('A', '5d'), ('A', '7d'),\n",
        "('A', '9d'), ('A', '10d'), ('A', '11d'), ('A', '12d'),\n",
        "('A', '13d'), ('A', '14d'), ('B', '1d'), ('B', '2d'),\n",
        "('B', '5d'), ('B', '6d'), ('B', '8d'), ('B', '11d'),\n",
        "('B', '13d'), ('C', '3d'), ('C', '4d'), ('Cd', '5d'),\n",
        "('C', '7d'), ('C', '8d'), ('C', '9d'), ('C', '10d'),\n",
        "('C', '11d'), ('C', 'F12d'), ('C', '13d'),\n",
        "('C', '14d'), ('D', '2d'), ('D', '3d'), ('D', '5d'),\n",
        "('D', '6d'), ('D', '8d'), ('D', '9d'), ('D', '10d'),\n",
        "('D', '11d'), ('D', '12d'), ('D', '13d'), ('D', '14d'),\n",
        "('E', '1d'), ('E', '2d'), ('E', '3d'), ('Ed', '4d'),\n",
        "('E', '5d'), ('E', '7d'), ('E', '8d'), ('Ed', '9d'),\n",
        "('E', '11d'), ('E', '13d'), ('E', '14d'), ('F', '1d'),\n",
        "('F', '2d'), ('F', '3d'), ('F', '6d'), ('F', '8d'),\n",
        "('F', '9d'), ('F', '12d'), ('F', '13d'), ('F', '14d'),\n",
        "('G', 'd1'), ('Gu', '2d'), ('G', '3d'), ('G', '5d'),\n",
        "('G', '6d'), ('Gu', '7d'), ('G', '8d'), ('G', '9d'),\n",
        "('G', '10d'), ('Gu', '11d'), ('G', '12d'), ('G', '13d'),\n",
        "('G', '14d')\n",
        "])"
      ],
      "execution_count": null,
      "outputs": []
    },
    {
      "cell_type": "markdown",
      "metadata": {
        "id": "KSKW-uNU4L17"
      },
      "source": [
        "## Model Deployment"
      ]
    },
    {
      "cell_type": "code",
      "metadata": {
        "id": "HiQ6XAVl4L18",
        "colab": {
          "base_uri": "https://localhost:8080/"
        },
        "outputId": "aae0a280-0e78-4693-abc4-8c215654d16f"
      },
      "source": [
        "# Create initial model.\n",
        "m = gp.Model(\"workforce5\")"
      ],
      "execution_count": null,
      "outputs": [
        {
          "output_type": "stream",
          "name": "stdout",
          "text": [
            "Restricted license - for non-production use only - expires 2022-01-13\n"
          ]
        }
      ]
    },
    {
      "cell_type": "markdown",
      "metadata": {
        "id": "Zaw2JmNc4L19"
      },
      "source": [
        "### Decision Variables\n",
        "\n",
        "근무요일별로 근무시간이 정해져 있음\n",
        "1일차 - 6시간 -> 근무할수 있는 사람별로 정해진 날짜가 있음\n",
        "그리고 근무하는 사람별로 총 일할 수 있는 시간이 있음"
      ]
    },
    {
      "cell_type": "code",
      "metadata": {
        "id": "yy82UOwg4L19"
      },
      "source": [
        "# Initialize assignment decision variables.\n",
        "\n",
        "x = m.addVars(availability, vtype=GRB.BINARY, name=\"x\") #할당 최화"
      ],
      "execution_count": null,
      "outputs": []
    },
    {
      "cell_type": "code",
      "metadata": {
        "id": "5HrUZYgG4L19"
      },
      "source": [
        "# Slack decision variables determine the number of extra workers required to satisfy the requirements \n",
        "# of each shift\n",
        "slacks = m.addVars(shifts, name=\"Slack\") \n",
        "#- 의사ㅕㄹ정변수\n",
        "# 이 변수에 따라 추ㅏ 자업 요ㅜ  - 임시ㅡㄴ무자 필요?"
      ],
      "execution_count": null,
      "outputs": []
    },
    {
      "cell_type": "markdown",
      "metadata": {
        "id": "zhBiIVRF4L1-"
      },
      "source": [
        "### Auxiliary Variables\n",
        "보조 변수는 의사 결정 변수의 값에서 파생됩니다.\n",
        "\n",
        "$totSlack$: 교대 근무자의 수요를 충족하는 데 필요한 추가 근무자의 총 수\n",
        "\n",
        "\\text{tot}Shifts}(w)$:각 작업자 $w \\in workers$가 작업한 총 작업 교대 수를 계산\n",
        "\n",
        "\\text{minShift}$: 근로자에게 할당되는 최소 교대 수를 결정합\n",
        "\n",
        "\\text{maxShift}$: 근로자에게 할당되는 최대 교대조 수를 결정"
      ]
    },
    {
      "cell_type": "code",
      "metadata": {
        "id": "OM7bvqE84L1-"
      },
      "source": [
        "# Auxiliary variable totSlack to represent the total number of extra workers required to satisfy the \n",
        "# requirements of all the shifts.\n",
        "totSlack = m.addVar(name='totSlack')"
      ],
      "execution_count": null,
      "outputs": []
    },
    {
      "cell_type": "code",
      "metadata": {
        "id": "hcT3Iy244L1-"
      },
      "source": [
        "# Auxiliary variable totShifts counts the total shifts worked by each employed worker\n",
        "totShifts = m.addVars(workers, name=\"TotShifts\")"
      ],
      "execution_count": null,
      "outputs": []
    },
    {
      "cell_type": "markdown",
      "metadata": {
        "id": "TVSF7jzp4L1_"
      },
      "source": [
        "### Constraint\n",
        "\n",
        "$$\\sum_{w \\: \\in \\: workers} x(w,s) \\; + \\; Slack(s) \\; = \\; \\text{shiftRequirements}(s) \\; \\; \\; \\forall \\; s \\in shifts $$"
      ]
    },
    {
      "cell_type": "code",
      "metadata": {
        "id": "lMYIUjTx4L1_"
      },
      "source": [
        "# Constraint: All shifts requirements most be satisfied.\n",
        "\n",
        "shift_reqmts = m.addConstrs((x.sum('*',s) + slacks[s] == shiftRequirements[s] for s in shifts), name='shiftRequirement')\n"
      ],
      "execution_count": null,
      "outputs": []
    },
    {
      "cell_type": "markdown",
      "metadata": {
        "id": "ryA0h-744L1_"
      },
      "source": [
        "### Constraint\n",
        "\n",
        "$$ \\sum_{s \\: \\in \\: shifts} Slack(s) \\; = \\; totSlack  $$"
      ]
    },
    {
      "cell_type": "code",
      "metadata": {
        "id": "Igds9-nu4L1_"
      },
      "source": [
        "# Constraint: set the auxiliary variable (totSlack) equal to the total number of extra workers \n",
        "# required to satisfy shift requirements\n",
        " \n",
        "num_temps = m.addConstr(totSlack == slacks.sum(), name='totSlack')\n"
      ],
      "execution_count": null,
      "outputs": []
    },
    {
      "cell_type": "markdown",
      "metadata": {
        "id": "HIU3GzoM4L2A"
      },
      "source": [
        "### Constraint\n",
        "\n",
        "$$\\sum_{s \\: \\in \\: shifts} x(w,s) \\; = \\; \\text{totShifts}(w) \\; \\; \\forall \\ w \\; in \\; workers$$"
      ]
    },
    {
      "cell_type": "code",
      "metadata": {
        "id": "MO2fGpiJ4L2A"
      },
      "source": [
        "# Constraint: compute the total number of shifts for each worker\n",
        "\n",
        "num_shifts = m.addConstrs((totShifts[w] == x.sum(w,'*') for w in workers), name='totShifts')\n"
      ],
      "execution_count": null,
      "outputs": []
    },
    {
      "cell_type": "markdown",
      "metadata": {
        "id": "FX-CfJXM4L2A"
      },
      "source": [
        "The variable $\\text{minShift}$ determines the minimum numbers of shifts allocated to workers. This variable is calculated as follows:\n",
        "$\\text{minShift} = Min \\{\\text{totShifts}(w): \\ w \\; in \\; workers \\} $\n",
        "\n",
        "The variable $\\text{maxShift}$ determines the maximum numbers of shifts allocated to workers. This variable is calculated as follows:\n",
        "$\\text{maxShift} = Max \\{\\text{totShifts}(w): \\ w \\; in \\; workers \\} $"
      ]
    },
    {
      "cell_type": "code",
      "metadata": {
        "id": "FGT6CGIe4L2A"
      },
      "source": [
        "# Auxiliary variables. \n",
        "# minShift is the minimum number of shifts allocated to workers \n",
        "# maxShift is the maximum number of shifts allocated to workers\n",
        "\n",
        "minShift = m.addVar(name='minShift')\n",
        "\n",
        "maxShift = m.addVar(name='maxShift')\n",
        "\n",
        "# Constraint: \n",
        "# The addGenConstrMin() method of the model object m adds a new general constraint that \n",
        "# determines the minimum value among a set of variables. \n",
        "# The first argument is the variable whose value will be equal to the minimum of the other variables, \n",
        "# minShift in this case. \n",
        "# The second argument is the set variables over which the minimum will be taken, (totShifts) in \n",
        "# this case. \n",
        "# Recall that the totShifts variable is defined over the set of worker and determines the number of \n",
        "# shifts that an employed worker will work. The third argument is the name of this constraint.\n",
        "\n",
        "min_constr = m.addGenConstrMin(minShift, totShifts, name='minShift')\n",
        "\n",
        "# Constraint: \n",
        "# Similarly, the addGenConstrMax() method of the model object m adds a new general \n",
        "# constraint that determines the maximum value among a set of variables.\n",
        "\n",
        "max_constr = m.addGenConstrMax(maxShift, totShifts, name='maxShift')\n"
      ],
      "execution_count": null,
      "outputs": []
    },
    {
      "cell_type": "markdown",
      "metadata": {
        "id": "11DGm6jA4L2A"
      },
      "source": [
        "We have a primary and a secondary objective which both aim to minimize."
      ]
    },
    {
      "cell_type": "code",
      "metadata": {
        "id": "XPknGMN44L2A"
      },
      "source": [
        "# Set global sense for ALL objectives.\n",
        "# This means that all objectives of the model object m are going to be minimized\n",
        "m.ModelSense = GRB.MINIMIZE"
      ],
      "execution_count": null,
      "outputs": []
    },
    {
      "cell_type": "markdown",
      "metadata": {
        "id": "U2dGf5oX4L2B"
      },
      "source": [
        "## Objective Function\n",
        "\n",
        "The primary objective is to minimize the total number of extra workers required to satisfy shift requirements. \n",
        "$$\n",
        "\\text{Min} \\; totSlack \\; = \\; \\sum_{s \\: \\in \\: shifts} Slack(s) \n",
        "$$\n",
        "\n",
        "For this objective we allow a degradation tolerance of up to certain percentage. If reltol = 0.2, then we allow a degradation\n",
        "tolerance of 20%. "
      ]
    },
    {
      "cell_type": "code",
      "metadata": {
        "id": "J0MGpUNU4L2B"
      },
      "source": [
        "# Set up primary objective.\n",
        "\n",
        "# The setObjectiveN() method of the model object m allows to define multiple objectives.\n",
        "# The first argument is the linear expression defining the most important objective, called primary \n",
        "# objective, in this case it is the minimization of extra workers required to satisfy shift \n",
        "# requirements. \n",
        "# The second argument is the index of the objective function, we set the index of the primary \n",
        "# objective to be equal to 0. \n",
        "# The third argument is the priority of the objective.\n",
        "# The fourth argument is the relative tolerance to degrade this objective when a lower priority\n",
        "# objective is optimized. The fifth argument is the name of this objective.\n",
        "# A hierarchical or lexicographic approach assigns a priority to each objective, and optimizes \n",
        "# for the objectives in decreasing priority order. \n",
        "# For this problem, we have two objectives, and the primary objective has the highest priority \n",
        "# which is equal to 2. \n",
        "# When the secondary objective is minimized, since the relative tolerance is 0.2, we can only \n",
        "# increase the minimum number of extra workers up to 20%. \n",
        "# For example if the minimum number extra workers is 10, then when optimizing the secondary objective \n",
        "# we can have up to 12 extra workers.\n",
        "\n",
        "m.setObjectiveN(totSlack, index=0, priority=2, reltol=0.2, name='TotalSlack')"
      ],
      "execution_count": null,
      "outputs": []
    },
    {
      "cell_type": "markdown",
      "metadata": {
        "id": "LWp9tubc4L2B"
      },
      "source": [
        "The secondary objective is to balance workload among workers. To do so, we minimize the difference between the maximum \n",
        "number of shifts allocated to a worker, and the minimum number of shifts allocated to a worker. That is\n",
        "$$\n",
        "\\text{Min} \\; (\\text{maxShift}  -  \\text{minShift}) \n",
        "$$ "
      ]
    },
    {
      "cell_type": "code",
      "metadata": {
        "id": "OHM8-POd4L2B"
      },
      "source": [
        "# Set up secondary objective.\n",
        "\n",
        "# The secondary objective is called fairness and its goal is to balance the workload assigned \n",
        "# to the employed workers. \n",
        "# To balance the workload assigned to the employed workers, we can minimize the difference \n",
        "# between the maximum number of shifts assigned to an employed worker and the minimum number \n",
        "# of shifts assigned to an employed worker.\n",
        "\n",
        "m.setObjectiveN(maxShift - minShift, index=1, priority=1, name='Fairness')"
      ],
      "execution_count": null,
      "outputs": []
    },
    {
      "cell_type": "code",
      "metadata": {
        "id": "u18MJXNh4L2B"
      },
      "source": [
        "# Save model formulation for inspection\n",
        "\n",
        "m.write('workforce.lp')"
      ],
      "execution_count": null,
      "outputs": []
    },
    {
      "cell_type": "code",
      "metadata": {
        "id": "z5Y6F3oP4L2B",
        "colab": {
          "base_uri": "https://localhost:8080/"
        },
        "outputId": "2472fbf6-9698-4c7d-b709-d3c1b6cfe4a6"
      },
      "source": [
        "# Optimize\n",
        "# This method runs the optimization engine to solve the MIP problem in the model object m\n",
        "m.optimize()"
      ],
      "execution_count": null,
      "outputs": [
        {
          "output_type": "stream",
          "name": "stdout",
          "text": [
            "Gurobi Optimizer version 9.1.2 build v9.1.2rc0 (linux64)\n",
            "Thread count: 1 physical cores, 2 logical processors, using up to 2 threads\n",
            "Optimize a model with 22 rows, 96 columns and 172 nonzeros\n",
            "Model fingerprint: 0xcec46015\n",
            "Model has 2 general constraints\n",
            "Variable types: 24 continuous, 72 integer (72 binary)\n",
            "Coefficient statistics:\n",
            "  Matrix range     [1e+00, 1e+00]\n",
            "  Objective range  [1e+00, 1e+00]\n",
            "  Bounds range     [1e+00, 1e+00]\n",
            "  RHS range        [2e+00, 1e+01]\n",
            "\n",
            "---------------------------------------------------------------------------\n",
            "Multi-objectives: starting optimization with 2 objectives ... \n",
            "---------------------------------------------------------------------------\n",
            "\n",
            "Multi-objectives: applying initial presolve ...\n",
            "---------------------------------------------------------------------------\n",
            "\n",
            "Presolve added 4 rows and 16 columns\n",
            "Presolve time: 0.00s\n",
            "Presolved: 26 rows and 112 columns\n",
            "---------------------------------------------------------------------------\n",
            "\n",
            "Multi-objectives: optimize objective 1 (TotalSlack) ...\n",
            "---------------------------------------------------------------------------\n",
            "\n",
            "Presolve added 2 rows and 0 columns\n",
            "Presolve removed 0 rows and 55 columns\n",
            "Presolve time: 0.00s\n",
            "Presolved: 28 rows, 57 columns, 115 nonzeros\n",
            "Presolved model has 7 SOS constraint(s)\n",
            "Variable types: 16 continuous, 41 integer (32 binary)\n",
            "\n",
            "Root relaxation: objective 3.900000e+01, 20 iterations, 0.00 seconds\n",
            "\n",
            "    Nodes    |    Current Node    |     Objective Bounds      |     Work\n",
            " Expl Unexpl |  Obj  Depth IntInf | Incumbent    BestBd   Gap | It/Node Time\n",
            "\n",
            "     0     0   39.00000    0    3          -   39.00000      -     -    0s\n",
            "H    0     0                      39.0000000   39.00000  0.00%     -    0s\n",
            "     0     0   39.00000    0    3   39.00000   39.00000  0.00%     -    0s\n",
            "\n",
            "Explored 1 nodes (20 simplex iterations) in 0.08 seconds\n",
            "Thread count was 2 (of 2 available processors)\n",
            "\n",
            "Solution count 1: 39 \n",
            "\n",
            "Optimal solution found (tolerance 1.00e-04)\n",
            "Best objective 3.900000000000e+01, best bound 3.900000000000e+01, gap 0.0000%\n",
            "---------------------------------------------------------------------------\n",
            "\n",
            "Multi-objectives: optimize objective 2 (Fairness) ...\n",
            "---------------------------------------------------------------------------\n",
            "\n",
            "\n",
            "Loaded user MIP start with objective 3\n",
            "\n",
            "Presolve added 2 rows and 0 columns\n",
            "Presolve removed 0 rows and 52 columns\n",
            "Presolve time: 0.00s\n",
            "Presolved: 29 rows, 60 columns, 152 nonzeros\n",
            "Presolved model has 7 SOS constraint(s)\n",
            "Variable types: 16 continuous, 44 integer (32 binary)\n",
            "\n",
            "Root relaxation: objective 5.000000e-01, 30 iterations, 0.00 seconds\n",
            "\n",
            "    Nodes    |    Current Node    |     Objective Bounds      |     Work\n",
            " Expl Unexpl |  Obj  Depth IntInf | Incumbent    BestBd   Gap | It/Node Time\n",
            "\n",
            "     0     0    0.50000    0    9    3.00000    0.50000  83.3%     -    0s\n",
            "H    0     0                       1.0000000    0.50000  50.0%     -    0s\n",
            "     0     0    0.88235    0    6    1.00000    0.88235  11.8%     -    0s\n",
            "*    0     0               0       0.9999999    1.00000  0.00%     -    0s\n",
            "\n",
            "Cutting planes:\n",
            "  Gomory: 6\n",
            "  RLT: 2\n",
            "\n",
            "Explored 1 nodes (51 simplex iterations) in 0.15 seconds\n",
            "Thread count was 2 (of 2 available processors)\n",
            "\n",
            "Solution count 3: 1 1 3 \n",
            "\n",
            "Optimal solution found (tolerance 1.00e-04)\n",
            "Best objective 9.999998823529e-01, best bound 9.999998823529e-01, gap 0.0000%\n",
            "\n",
            "---------------------------------------------------------------------------\n",
            "Multi-objectives: solved in 0.16 seconds, solution count 3\n",
            "\n"
          ]
        }
      ]
    },
    {
      "cell_type": "code",
      "metadata": {
        "id": "ghBJz8344L2C"
      },
      "source": [
        "# The Status attribute  provides current optimization status of the model object m\n",
        "# In workforce model, we check if the model is infeasible or unbounded and report this situation\n",
        "status = m.Status\n",
        "if status == GRB.Status.INF_OR_UNBD or status == GRB.Status.INFEASIBLE  or status == GRB.Status.UNBOUNDED:\n",
        "    print('The model cannot be solved because it is infeasible or unbounded')\n",
        "    sys.exit(0)\n",
        "# If the optimization status of the model is not optimal for some other reason, we report that \n",
        "# situation.\n",
        "if status != GRB.Status.OPTIMAL:\n",
        "    print('Optimization was stopped with status ' + str(status))\n",
        "    sys.exit(0)"
      ],
      "execution_count": null,
      "outputs": []
    },
    {
      "cell_type": "code",
      "metadata": {
        "id": "Ih5nC9VH4L2C",
        "colab": {
          "base_uri": "https://localhost:8080/",
          "height": 468
        },
        "outputId": "49f6746b-05ed-496c-bbcd-d5cf85358b8d"
      },
      "source": [
        "# Print total slack and the number of shifts worked for each worker\n",
        "# The KPIs for this optimization number is the number of extra worked required to satisfy \n",
        "# demand and the number of shifts that each employed worker is working.\n",
        "solution = {}\n",
        "shifts_sol = {}\n",
        "solution['Total slack required'] = str(totSlack.X)\n",
        "assignments_all = {}\n",
        "gant={}\n",
        "\n",
        "assignments = dict()\n",
        "for [w, s] in availability:\n",
        "    if x[w, s].x == 1:\n",
        "        if w in assignments:\n",
        "            assignments[w].append(s)\n",
        "        else:\n",
        "            assignments[w] = [s]\n",
        "\n",
        "\n",
        "print(pd.DataFrame.from_records(list(solution.items()), columns=['KPI', 'Value']))\n",
        "print('-'*50)\n",
        "\n",
        "for w in workers:\n",
        "    shifts_sol[w]=totShifts[w].X\n",
        "    assignments_all[w]=assignments.get(w, [])\n",
        "\n",
        "print('Shifts')\n",
        "print(pd.DataFrame.from_records(list(shifts_sol.items()), columns=['Worker', 'Number of shifts']))\n",
        "    \n",
        "y_pos = np.arange(len(shifts_sol.keys())) \n",
        "plt.bar(y_pos,shifts_sol.values() , align='center')\n",
        "plt.xticks(y_pos, shifts_sol.keys())\n",
        "plt.show()\n",
        "\n",
        "print('-'*50)\n",
        "for w in assignments_all:\n",
        "    gant[w] = [w]\n",
        "    for d in shifts:\n",
        "        gant[w].append('*' if d in assignments_all[w] else '-')\n",
        "\n",
        "print('Assigments')\n",
        "print('Symbols: \\'-\\': not working, \\'*\\': working')\n",
        "pd.set_option('display.width', 1000)\n",
        "print(pd.DataFrame.from_records(list(gant.values()), columns=['worker']+shifts))"
      ],
      "execution_count": null,
      "outputs": [
        {
          "output_type": "stream",
          "name": "stdout",
          "text": [
            "                    KPI Value\n",
            "0  Total slack required  46.0\n",
            "--------------------------------------------------\n",
            "Shifts\n",
            "  Worker  Number of shifts\n",
            "0      A          8.000000\n",
            "1      B          7.000000\n",
            "2      C          7.000000\n",
            "3      D          8.000000\n",
            "4      E          7.000000\n",
            "5      F          7.000001\n",
            "6      G          8.000000\n"
          ]
        },
        {
          "output_type": "display_data",
          "data": {
            "image/png": "[encoded data removed]",
            "text/plain": [
              "<Figure size 432x288 with 1 Axes>"
            ]
          },
          "metadata": {
            "needs_background": "light"
          }
        },
        {
          "output_type": "stream",
          "name": "stdout",
          "text": [
            "--------------------------------------------------\n",
            "Assigments\n",
            "Symbols: '-': not working, '*': working\n",
            "  worker 1d 2d 3d 4d 5d 6d 7d 8d 9d 10d 11d 12d 13d 14d\n",
            "0      A  -  *  -  -  *  -  -  -  *   *   *   *   *   -\n",
            "1      B  *  *  -  -  *  *  -  *  -   -   *   -   *   -\n",
            "2      C  -  -  *  *  -  -  -  -  *   *   -   -   *   *\n",
            "3      D  -  *  *  -  -  -  -  -  *   *   -   *   *   *\n",
            "4      E  *  *  *  -  *  -  *  *  -   -   *   -   -   -\n",
            "5      F  *  *  *  -  -  -  -  -  *   -   -   *   *   *\n",
            "6      G  -  -  *  -  *  *  -  -  *   *   -   -   *   *\n"
          ]
        }
      ]
    },
    {
      "cell_type": "markdown",
      "metadata": {
        "id": "sF60hBxO4L2C"
      },
      "source": [
        "## Analysis\n",
        "\n",
        "The total number of extra workers required to satisfy the shift requirements during the planning horizon is seven.\n",
        "\n",
        "The bar chart shows the number of shifts that each employed worker will work during the planning horizon. Observe that with seven extra workers, the workload of employed workers is quite balanced.\n",
        "\n",
        "The last table shows which day during the planning horizon each employed worker is working."
      ]
    },
    {
      "cell_type": "markdown",
      "metadata": {
        "id": "_WLukJm34L2C"
      },
      "source": [
        "## Conclusion\n",
        "\n",
        "In this Jupyter Notebook, we discussed a workforce scheduling optimization problem that is common in the services industry.\n",
        "Consider a service business that develops its workforce plans for the next two weeks. There is only one shift per workday. Each shift may have different workers requirements on each workday. The service business may hire extra workers from an agency to satisfy shift requirements. The service business wants to minimize the number of extra workers that needs to hire, and as a secondary objective, it wants to balance the workload of employed workers.\n",
        "\n",
        "The problem was formulated as a multi-objective mixed-integer-programming (MIP) model,\n",
        "and implemented using the Gurobi Python API and solved using the Gurobi Optimizer.\n",
        "\n",
        "The hierarchical  approach to tackling multi-objective function problems was explained in detail.\n"
      ]
    },
    {
      "cell_type": "markdown",
      "metadata": {
        "id": "aovhSTRz4L2C"
      },
      "source": [
        "Copyright © 2020 Gurobi Optimization, LLC"
      ]
    }
  ]
}